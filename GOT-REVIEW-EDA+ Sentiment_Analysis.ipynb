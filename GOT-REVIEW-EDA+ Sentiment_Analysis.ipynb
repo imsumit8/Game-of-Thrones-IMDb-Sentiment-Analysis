{
 "cells": [
  {
   "cell_type": "markdown",
   "metadata": {},
   "source": [
    "## Importing the Libraries"
   ]
  },
  {
   "cell_type": "code",
   "execution_count": 1,
   "metadata": {},
   "outputs": [],
   "source": [
    "import numpy as np\n",
    "import pandas as pd\n",
    "import matplotlib.pyplot as plt\n",
    "import seaborn as sns\n",
    "import plotly.express as ex\n",
    "from statsmodels.stats.outliers_influence import variance_inflation_factor\n",
    "from textblob import TextBlob\n",
    "import re\n",
    "import string\n",
    "import nltk\n",
    "from nltk.tokenize import word_tokenize\n",
    "from nltk.corpus import stopwords\n"
   ]
  },
  {
   "cell_type": "markdown",
   "metadata": {},
   "source": [
    "## Importing the Dataset"
   ]
  },
  {
   "cell_type": "code",
   "execution_count": 2,
   "metadata": {},
   "outputs": [],
   "source": [
    "df= pd.read_csv('GOT_main.csv')\n"
   ]
  },
  {
   "cell_type": "markdown",
   "metadata": {},
   "source": [
    "## Exploring The Dataset"
   ]
  },
  {
   "cell_type": "code",
   "execution_count": 3,
   "metadata": {},
   "outputs": [
    {
     "name": "stdout",
     "output_type": "stream",
     "text": [
      "                                       id languageCode submissionDate  \\\n",
      "0  /title/tt0944947/userreviews/rw4877695          eng      5/21/2019   \n",
      "1  /title/tt0944947/userreviews/rw5621450          eng       4/9/2020   \n",
      "2  /title/tt0944947/userreviews/rw3853874          eng      11/9/2017   \n",
      "3  /title/tt0944947/userreviews/rw4886015          eng      5/25/2019   \n",
      "4  /title/tt0944947/userreviews/rw4841248          eng      5/10/2019   \n",
      "\n",
      "                                          reviewText  authorRating  \\\n",
      "0  Let's say you're reading these reviews and hav...           8.0   \n",
      "1  I'm feeling so heartbroken to see everyone cri...          10.0   \n",
      "2  Was over-time on a gradual binge of watching '...          10.0   \n",
      "3  It was a master piece. It was written to the p...           8.0   \n",
      "4  I would give this an easy 10/10.. if season 8 ...           9.0   \n",
      "\n",
      "   helpfulnessScore  spoiler  \n",
      "0          0.887923    False  \n",
      "1          0.857426    False  \n",
      "2          0.784321    False  \n",
      "3          0.892524    False  \n",
      "4          0.832666     True  \n"
     ]
    }
   ],
   "source": [
    "print(df.head())"
   ]
  },
  {
   "cell_type": "markdown",
   "metadata": {},
   "source": [
    "# Variables\n",
    "id (string):                Unique identifiers for each of the reviews of Game of Thrones referenced in IMDb data\n",
    "\n",
    "languageCode (string):      The language of the review\n",
    "\n",
    "submissionDate (MM/DD/YYYY):The date of submission of the review  \n",
    "\n",
    "reviewText (string):       The reviews and recomeendations given by the user in text format.\n",
    "\n",
    "authorRating (float):        IMDb registered users can cast a vote (from 1 to 10) on the Game Of Thrones tv show.\n",
    "\n",
    "helpfulnessScore (float):  Via the app, users can tap the thumbs up (Helpful) or thumbs down (Not Helpful) icon to indicate his opinion of the review.Please note that \"helpful\" doesn't necessarily imply the review was \"positive\" or \"favorable\". A review can be helpful even if it is negative, because it can help readers decide not to watch it.\n",
    "\n",
    "spoiler (boolean):         True: if the review content gives spoiler to other users; False: No spoilers in the content\n"
   ]
  },
  {
   "cell_type": "code",
   "execution_count": 4,
   "metadata": {},
   "outputs": [
    {
     "data": {
      "text/html": [
       "<div>\n",
       "<style scoped>\n",
       "    .dataframe tbody tr th:only-of-type {\n",
       "        vertical-align: middle;\n",
       "    }\n",
       "\n",
       "    .dataframe tbody tr th {\n",
       "        vertical-align: top;\n",
       "    }\n",
       "\n",
       "    .dataframe thead th {\n",
       "        text-align: right;\n",
       "    }\n",
       "</style>\n",
       "<table border=\"1\" class=\"dataframe\">\n",
       "  <thead>\n",
       "    <tr style=\"text-align: right;\">\n",
       "      <th></th>\n",
       "      <th>id</th>\n",
       "      <th>languageCode</th>\n",
       "      <th>submissionDate</th>\n",
       "      <th>reviewText</th>\n",
       "      <th>authorRating</th>\n",
       "      <th>helpfulnessScore</th>\n",
       "      <th>spoiler</th>\n",
       "    </tr>\n",
       "  </thead>\n",
       "  <tbody>\n",
       "    <tr>\n",
       "      <th>0</th>\n",
       "      <td>/title/tt0944947/userreviews/rw4877695</td>\n",
       "      <td>eng</td>\n",
       "      <td>5/21/2019</td>\n",
       "      <td>Let's say you're reading these reviews and hav...</td>\n",
       "      <td>8.0</td>\n",
       "      <td>0.887923</td>\n",
       "      <td>False</td>\n",
       "    </tr>\n",
       "    <tr>\n",
       "      <th>1</th>\n",
       "      <td>/title/tt0944947/userreviews/rw5621450</td>\n",
       "      <td>eng</td>\n",
       "      <td>4/9/2020</td>\n",
       "      <td>I'm feeling so heartbroken to see everyone cri...</td>\n",
       "      <td>10.0</td>\n",
       "      <td>0.857426</td>\n",
       "      <td>False</td>\n",
       "    </tr>\n",
       "    <tr>\n",
       "      <th>2</th>\n",
       "      <td>/title/tt0944947/userreviews/rw3853874</td>\n",
       "      <td>eng</td>\n",
       "      <td>11/9/2017</td>\n",
       "      <td>Was over-time on a gradual binge of watching '...</td>\n",
       "      <td>10.0</td>\n",
       "      <td>0.784321</td>\n",
       "      <td>False</td>\n",
       "    </tr>\n",
       "    <tr>\n",
       "      <th>3</th>\n",
       "      <td>/title/tt0944947/userreviews/rw4886015</td>\n",
       "      <td>eng</td>\n",
       "      <td>5/25/2019</td>\n",
       "      <td>It was a master piece. It was written to the p...</td>\n",
       "      <td>8.0</td>\n",
       "      <td>0.892524</td>\n",
       "      <td>False</td>\n",
       "    </tr>\n",
       "    <tr>\n",
       "      <th>4</th>\n",
       "      <td>/title/tt0944947/userreviews/rw4841248</td>\n",
       "      <td>eng</td>\n",
       "      <td>5/10/2019</td>\n",
       "      <td>I would give this an easy 10/10.. if season 8 ...</td>\n",
       "      <td>9.0</td>\n",
       "      <td>0.832666</td>\n",
       "      <td>True</td>\n",
       "    </tr>\n",
       "  </tbody>\n",
       "</table>\n",
       "</div>"
      ],
      "text/plain": [
       "                                       id languageCode submissionDate  \\\n",
       "0  /title/tt0944947/userreviews/rw4877695          eng      5/21/2019   \n",
       "1  /title/tt0944947/userreviews/rw5621450          eng       4/9/2020   \n",
       "2  /title/tt0944947/userreviews/rw3853874          eng      11/9/2017   \n",
       "3  /title/tt0944947/userreviews/rw4886015          eng      5/25/2019   \n",
       "4  /title/tt0944947/userreviews/rw4841248          eng      5/10/2019   \n",
       "\n",
       "                                          reviewText  authorRating  \\\n",
       "0  Let's say you're reading these reviews and hav...           8.0   \n",
       "1  I'm feeling so heartbroken to see everyone cri...          10.0   \n",
       "2  Was over-time on a gradual binge of watching '...          10.0   \n",
       "3  It was a master piece. It was written to the p...           8.0   \n",
       "4  I would give this an easy 10/10.. if season 8 ...           9.0   \n",
       "\n",
       "   helpfulnessScore  spoiler  \n",
       "0          0.887923    False  \n",
       "1          0.857426    False  \n",
       "2          0.784321    False  \n",
       "3          0.892524    False  \n",
       "4          0.832666     True  "
      ]
     },
     "execution_count": 4,
     "metadata": {},
     "output_type": "execute_result"
    }
   ],
   "source": [
    "df.head()"
   ]
  },
  {
   "cell_type": "markdown",
   "metadata": {},
   "source": [
    "# Shape & Column Names"
   ]
  },
  {
   "cell_type": "code",
   "execution_count": 5,
   "metadata": {},
   "outputs": [
    {
     "name": "stdout",
     "output_type": "stream",
     "text": [
      "(5491, 7)\n"
     ]
    }
   ],
   "source": [
    "print(df.shape)"
   ]
  },
  {
   "cell_type": "code",
   "execution_count": 6,
   "metadata": {},
   "outputs": [
    {
     "name": "stdout",
     "output_type": "stream",
     "text": [
      "Index(['id', 'languageCode', 'submissionDate', 'reviewText', 'authorRating',\n",
      "       'helpfulnessScore', 'spoiler'],\n",
      "      dtype='object')\n"
     ]
    }
   ],
   "source": [
    "print(df.columns)"
   ]
  },
  {
   "cell_type": "markdown",
   "metadata": {},
   "source": [
    "# Checking the data type of columns"
   ]
  },
  {
   "cell_type": "code",
   "execution_count": 7,
   "metadata": {},
   "outputs": [
    {
     "name": "stdout",
     "output_type": "stream",
     "text": [
      "<class 'pandas.core.frame.DataFrame'>\n",
      "RangeIndex: 5491 entries, 0 to 5490\n",
      "Data columns (total 7 columns):\n",
      " #   Column            Non-Null Count  Dtype  \n",
      "---  ------            --------------  -----  \n",
      " 0   id                5491 non-null   object \n",
      " 1   languageCode      5491 non-null   object \n",
      " 2   submissionDate    5491 non-null   object \n",
      " 3   reviewText        5491 non-null   object \n",
      " 4   authorRating      5358 non-null   float64\n",
      " 5   helpfulnessScore  5453 non-null   float64\n",
      " 6   spoiler           5491 non-null   bool   \n",
      "dtypes: bool(1), float64(2), object(4)\n",
      "memory usage: 262.9+ KB\n",
      "None\n"
     ]
    }
   ],
   "source": [
    "print(df.info())"
   ]
  },
  {
   "cell_type": "markdown",
   "metadata": {},
   "source": [
    "# Descriptive Statistics"
   ]
  },
  {
   "cell_type": "code",
   "execution_count": 8,
   "metadata": {},
   "outputs": [
    {
     "name": "stdout",
     "output_type": "stream",
     "text": [
      "       authorRating  helpfulnessScore\n",
      "count   5358.000000       5453.000000\n",
      "mean       7.798619          0.246733\n",
      "std        3.072508          0.172273\n",
      "min        1.000000          0.000000\n",
      "25%        7.000000          0.097461\n",
      "50%        9.000000          0.215216\n",
      "75%       10.000000          0.358935\n",
      "max       10.000000          0.892524\n"
     ]
    }
   ],
   "source": [
    "print(df.describe())"
   ]
  },
  {
   "cell_type": "code",
   "execution_count": 9,
   "metadata": {},
   "outputs": [
    {
     "name": "stdout",
     "output_type": "stream",
     "text": [
      "authorRating        9.000000\n",
      "helpfulnessScore    0.215216\n",
      "spoiler             0.000000\n",
      "dtype: float64\n"
     ]
    }
   ],
   "source": [
    "# getting the median values of numeric columns\n",
    "median_values = df.median()\n",
    "\n",
    "print(median_values)"
   ]
  },
  {
   "cell_type": "markdown",
   "metadata": {},
   "source": [
    "# Checking for duplicate values"
   ]
  },
  {
   "cell_type": "code",
   "execution_count": 10,
   "metadata": {},
   "outputs": [
    {
     "name": "stdout",
     "output_type": "stream",
     "text": [
      "0\n"
     ]
    }
   ],
   "source": [
    "duplicate=df.duplicated().sum()\n",
    "print(duplicate)"
   ]
  },
  {
   "cell_type": "markdown",
   "metadata": {},
   "source": [
    "# Checking for Null values"
   ]
  },
  {
   "cell_type": "code",
   "execution_count": 11,
   "metadata": {},
   "outputs": [
    {
     "name": "stdout",
     "output_type": "stream",
     "text": [
      "id                    0\n",
      "languageCode          0\n",
      "submissionDate        0\n",
      "reviewText            0\n",
      "authorRating        133\n",
      "helpfulnessScore     38\n",
      "spoiler               0\n",
      "dtype: int64\n"
     ]
    }
   ],
   "source": [
    "missing_values = df.isnull().sum()\n",
    "print(missing_values)"
   ]
  },
  {
   "cell_type": "markdown",
   "metadata": {},
   "source": [
    "# Checking the percentage of values that are missing"
   ]
  },
  {
   "cell_type": "code",
   "execution_count": 12,
   "metadata": {},
   "outputs": [
    {
     "name": "stdout",
     "output_type": "stream",
     "text": [
      "id                  0.000000\n",
      "languageCode        0.000000\n",
      "submissionDate      0.000000\n",
      "reviewText          0.000000\n",
      "authorRating        2.422145\n",
      "helpfulnessScore    0.692042\n",
      "spoiler             0.000000\n",
      "dtype: float64\n"
     ]
    }
   ],
   "source": [
    "missing_percentages = (df.isnull().sum() / len(df)) * 100\n",
    "\n",
    "print(missing_percentages)"
   ]
  },
  {
   "cell_type": "markdown",
   "metadata": {},
   "source": [
    "Here we can see that few  missing values are there for authorRating and helpfulnessScore column."
   ]
  },
  {
   "cell_type": "markdown",
   "metadata": {},
   "source": [
    "\n",
    "Now we can fill the missing values with the measures of central tendency."
   ]
  },
  {
   "cell_type": "code",
   "execution_count": 13,
   "metadata": {},
   "outputs": [],
   "source": [
    "\n",
    "## Mean imputation assumes that the missing values have a normal distribution.\n",
    "## If the data is skewed or has outliers, mean imputation might not be the best choice."
   ]
  },
  {
   "cell_type": "markdown",
   "metadata": {},
   "source": [
    "# checking for Outliers"
   ]
  },
  {
   "cell_type": "code",
   "execution_count": 14,
   "metadata": {},
   "outputs": [
    {
     "name": "stdout",
     "output_type": "stream",
     "text": [
      "AxesSubplot(0.125,0.125;0.775x0.755)\n"
     ]
    },
    {
     "data": {
      "image/png": "[encoded data removed]",
      "text/plain": [
       "<Figure size 1296x360 with 1 Axes>"
      ]
     },
     "metadata": {},
     "output_type": "display_data"
    }
   ],
   "source": [
    "#CHECKING FOR authorRating COLUMN\n",
    "sns.set(rc={\"figure.figsize\":(18,5)})\n",
    "\n",
    "print(sns.boxplot(df['authorRating'],palette='summer'))"
   ]
  },
  {
   "cell_type": "code",
   "execution_count": 15,
   "metadata": {},
   "outputs": [
    {
     "name": "stdout",
     "output_type": "stream",
     "text": [
      "AxesSubplot(0.125,0.125;0.775x0.755)\n"
     ]
    },
    {
     "data": {
      "image/png": "[encoded data removed]",
      "text/plain": [
       "<Figure size 1296x360 with 1 Axes>"
      ]
     },
     "metadata": {},
     "output_type": "display_data"
    }
   ],
   "source": [
    "#CHECKING FOR helpfulnessScore COLUMN\n",
    "sns.set(rc={\"figure.figsize\":(18,5)})\n",
    "\n",
    "print(sns.boxplot(df['helpfulnessScore'],palette='summer'))"
   ]
  },
  {
   "cell_type": "code",
   "execution_count": 16,
   "metadata": {},
   "outputs": [
    {
     "name": "stdout",
     "output_type": "stream",
     "text": [
      "                                          id languageCode submissionDate  \\\n",
      "3692  /title/tt0944947/userreviews/rw6876818          eng       5/3/2021   \n",
      "\n",
      "                                             reviewText  authorRating  \\\n",
      "3692  Tyrion was overacting the entire time. It was ...           NaN   \n",
      "\n",
      "      helpfulnessScore  spoiler  \n",
      "3692               NaN    False  \n"
     ]
    }
   ],
   "source": [
    "# Check for null values in the intersection of both columns\n",
    "null_intersection = df[df['authorRating'].isnull() & df['helpfulnessScore'].isnull()]\n",
    "\n",
    "# Display the rows where both columns are null\n",
    "print(null_intersection)\n",
    "\n"
   ]
  },
  {
   "cell_type": "code",
   "execution_count": 17,
   "metadata": {},
   "outputs": [
    {
     "name": "stderr",
     "output_type": "stream",
     "text": [
      "C:\\Users\\Sumit\\anaconda3\\lib\\site-packages\\ipykernel_launcher.py:6: SettingWithCopyWarning: \n",
      "A value is trying to be set on a copy of a slice from a DataFrame.\n",
      "Try using .loc[row_indexer,col_indexer] = value instead\n",
      "\n",
      "See the caveats in the documentation: https://pandas.pydata.org/pandas-docs/stable/user_guide/indexing.html#returning-a-view-versus-a-copy\n",
      "  \n",
      "C:\\Users\\Sumit\\anaconda3\\lib\\site-packages\\ipykernel_launcher.py:7: SettingWithCopyWarning: \n",
      "A value is trying to be set on a copy of a slice from a DataFrame.\n",
      "Try using .loc[row_indexer,col_indexer] = value instead\n",
      "\n",
      "See the caveats in the documentation: https://pandas.pydata.org/pandas-docs/stable/user_guide/indexing.html#returning-a-view-versus-a-copy\n",
      "  import sys\n"
     ]
    }
   ],
   "source": [
    "# Remove rows with null values in the intersection of both columns , since those reviews will  not be very useful\n",
    "filtered_df = df[~(df['authorRating'].isnull() & df['helpfulnessScore'].isnull())]\n",
    "\n",
    "\n",
    "# Replace the remaining null values with the median, as there are outliers within the dataset.\n",
    "filtered_df['authorRating']= filtered_df['authorRating'].fillna(filtered_df['authorRating'].median())\n",
    "filtered_df['helpfulnessScore']= filtered_df['helpfulnessScore'].fillna(filtered_df['helpfulnessScore'].median())\n"
   ]
  },
  {
   "cell_type": "code",
   "execution_count": 18,
   "metadata": {},
   "outputs": [
    {
     "data": {
      "text/plain": [
       "id                  0\n",
       "languageCode        0\n",
       "submissionDate      0\n",
       "reviewText          0\n",
       "authorRating        0\n",
       "helpfulnessScore    0\n",
       "spoiler             0\n",
       "dtype: int64"
      ]
     },
     "execution_count": 18,
     "metadata": {},
     "output_type": "execute_result"
    }
   ],
   "source": [
    "filtered_df.isnull().sum()"
   ]
  },
  {
   "cell_type": "markdown",
   "metadata": {},
   "source": [
    "# Transforming Categorical Variables with suitable Dummies"
   ]
  },
  {
   "cell_type": "code",
   "execution_count": 19,
   "metadata": {},
   "outputs": [
    {
     "name": "stdout",
     "output_type": "stream",
     "text": [
      "                                          id languageCode submissionDate  \\\n",
      "0     /title/tt0944947/userreviews/rw4877695          eng      5/21/2019   \n",
      "1     /title/tt0944947/userreviews/rw5621450          eng       4/9/2020   \n",
      "2     /title/tt0944947/userreviews/rw3853874          eng      11/9/2017   \n",
      "3     /title/tt0944947/userreviews/rw4886015          eng      5/25/2019   \n",
      "4     /title/tt0944947/userreviews/rw4841248          eng      5/10/2019   \n",
      "...                                      ...          ...            ...   \n",
      "5486  /title/tt0944947/userreviews/rw4938475          eng      6/16/2019   \n",
      "5487  /title/tt0944947/userreviews/rw5302336          eng      12/5/2019   \n",
      "5488  /title/tt0944947/userreviews/rw7824742          eng       2/1/2022   \n",
      "5489  /title/tt0944947/userreviews/rw6512536          eng      1/22/2021   \n",
      "5490  /title/tt0944947/userreviews/rw4928951          eng      6/11/2019   \n",
      "\n",
      "                                             reviewText  authorRating  \\\n",
      "0     Let's say you're reading these reviews and hav...           8.0   \n",
      "1     I'm feeling so heartbroken to see everyone cri...          10.0   \n",
      "2     Was over-time on a gradual binge of watching '...          10.0   \n",
      "3     It was a master piece. It was written to the p...           8.0   \n",
      "4     I would give this an easy 10/10.. if season 8 ...           9.0   \n",
      "...                                                 ...           ...   \n",
      "5486  I'm not saying the ending was bad, but it was ...           7.0   \n",
      "5487  It is sad to watch how they ended up the show....           8.0   \n",
      "5488  It is impressive but not nearly as good as the...           1.0   \n",
      "5489  I have heard many things about this show, such...           9.0   \n",
      "5490  Simply the best show ever created, I dont know...           9.0   \n",
      "\n",
      "      helpfulnessScore  spoiler_True  \n",
      "0             0.887923             0  \n",
      "1             0.857426             0  \n",
      "2             0.784321             0  \n",
      "3             0.892524             0  \n",
      "4             0.832666             1  \n",
      "...                ...           ...  \n",
      "5486          0.061492             0  \n",
      "5487          0.045587             0  \n",
      "5488          0.012722             0  \n",
      "5489          0.215216             0  \n",
      "5490          0.063225             0  \n",
      "\n",
      "[5490 rows x 7 columns]\n"
     ]
    }
   ],
   "source": [
    "\n",
    "# Apply one-hot encoding using pd.get_dummies()\n",
    "new_df = pd.get_dummies(filtered_df, columns=['spoiler'],drop_first=True)\n",
    "print(new_df)"
   ]
  },
  {
   "cell_type": "markdown",
   "metadata": {},
   "source": [
    "# Visualize the categorical variables"
   ]
  },
  {
   "cell_type": "code",
   "execution_count": 46,
   "metadata": {},
   "outputs": [
    {
     "data": {
      "image/png": "[encoded data removed]",
      "text/plain": [
       "<Figure size 864x576 with 1 Axes>"
      ]
     },
     "metadata": {},
     "output_type": "display_data"
    }
   ],
   "source": [
    "\n",
    "\n",
    "# Group the data by sentiment and count the occurrences\n",
    "spoiler_counts = new_df['spoiler_True'].value_counts()\n",
    "\n",
    "# Define colors for the pie slices\n",
    "colors = [ 'lightcoral', 'lightskyblue']\n",
    "\n",
    "# Create a pie plot\n",
    "plt.figure(figsize=(12, 8))\n",
    "\n",
    "plt.pie(spoiler_counts, labels=['No spoiler content','Spoiler'], autopct='%1.1f%%', colors=colors, startangle=140)\n",
    "plt.axis('equal')  # Equal aspect ratio ensures that the pie chart is circular.\n",
    "\n",
    "# Add a title\n",
    "plt.title(\"Spoiler pie plot\")\n",
    "\n",
    "# Show the plot\n",
    "plt.show()\n"
   ]
  },
  {
   "cell_type": "markdown",
   "metadata": {},
   "source": [
    "Based on this analysis, it's evident that a mere 20.3% of the reviews contain spoiler content within the text, while the rest of the reviews do not feature such content."
   ]
  },
  {
   "cell_type": "code",
   "execution_count": 47,
   "metadata": {},
   "outputs": [
    {
     "data": {
      "image/png": "[encoded data removed]",
      "text/plain": [
       "<Figure size 864x576 with 1 Axes>"
      ]
     },
     "metadata": {},
     "output_type": "display_data"
    }
   ],
   "source": [
    "ex.pie(new_df,names='languageCode',title='Language pie plot',hole=0.3)\n",
    "\n",
    "\n",
    "# Group the data by sentiment and count the occurrences\n",
    "language_counts = new_df['languageCode'].value_counts()\n",
    "\n",
    "# Define colors for the pie slices\n",
    "colors = [ 'lightcoral', 'lightskyblue']\n",
    "\n",
    "# Create a pie plot\n",
    "plt.figure(figsize=(12, 8))\n",
    "\n",
    "plt.pie(language_counts, labels=language_counts.index, autopct='%1.1f%%', colors=colors, startangle=140)\n",
    "plt.axis('equal')  # Equal aspect ratio ensures that the pie chart is circular.\n",
    "\n",
    "# Add a title\n",
    "plt.title(\"Language pie plot\")\n",
    "\n",
    "# Show the plot\n",
    "plt.show()\n"
   ]
  },
  {
   "cell_type": "markdown",
   "metadata": {},
   "source": [
    "Considering this analysis, because all the reviews are composed in the English language, conducting text data analysis will be straightforward."
   ]
  },
  {
   "cell_type": "markdown",
   "metadata": {},
   "source": [
    "# Visualizing the Numerical Variable"
   ]
  },
  {
   "cell_type": "code",
   "execution_count": 22,
   "metadata": {},
   "outputs": [
    {
     "data": {
      "image/png": "[encoded data removed]",
      "text/plain": [
       "<Figure size 720x432 with 1 Axes>"
      ]
     },
     "metadata": {},
     "output_type": "display_data"
    }
   ],
   "source": [
    "plt.figure(figsize=(10, 6))\n",
    "sns.distplot(new_df['authorRating'], bins=10, kde=True)  \n",
    "plt.title('Distribution of Ratings')\n",
    "plt.xlabel('Rating')\n",
    "plt.ylabel('Count')\n",
    "plt.show()"
   ]
  },
  {
   "cell_type": "markdown",
   "metadata": {},
   "source": [
    "We can clearly see here that most of the ratings are in the group between 8-10 age range . So the mean is around this range only. "
   ]
  },
  {
   "cell_type": "code",
   "execution_count": 23,
   "metadata": {},
   "outputs": [
    {
     "data": {
      "image/png": "[encoded data removed]",
      "text/plain": [
       "<Figure size 720x432 with 1 Axes>"
      ]
     },
     "metadata": {},
     "output_type": "display_data"
    }
   ],
   "source": [
    "plt.figure(figsize=(10, 6))\n",
    "sns.distplot(new_df['helpfulnessScore'], bins=10, kde=True)  \n",
    "plt.title('Distribution of Helpfulness Score')\n",
    "plt.xlabel('Helpfulness Score')\n",
    "plt.ylabel('Count')\n",
    "plt.show()"
   ]
  },
  {
   "cell_type": "markdown",
   "metadata": {},
   "source": [
    "# Correlation matrix- Checking for multicolinearity"
   ]
  },
  {
   "cell_type": "code",
   "execution_count": 24,
   "metadata": {},
   "outputs": [
    {
     "name": "stdout",
     "output_type": "stream",
     "text": [
      "AxesSubplot(0.125,0.125;0.62x0.755)\n"
     ]
    },
    {
     "data": {
      "image/png": "[encoded data removed]",
      "text/plain": [
       "<Figure size 504x360 with 2 Axes>"
      ]
     },
     "metadata": {},
     "output_type": "display_data"
    }
   ],
   "source": [
    "correlation_matrix=new_df.corr()\n",
    "\n",
    "# Create a heatmap\n",
    "sns.set(rc={\"figure.figsize\":(7,5)})\n",
    "print(sns.heatmap(correlation_matrix, annot=True, cmap='coolwarm'))\n",
    "\n",
    "# Display the plot\n",
    "plt.show()"
   ]
  },
  {
   "cell_type": "markdown",
   "metadata": {},
   "source": [
    "Due to the minimal correlation between the variables, it is safe to conclude that there is no issue of multicollinearity."
   ]
  },
  {
   "cell_type": "code",
   "execution_count": 25,
   "metadata": {},
   "outputs": [],
   "source": [
    "def calc_vif(x):\n",
    "    #calculating VIF\n",
    "    vif=pd.DataFrame()\n",
    "    vif['variables']=x.columns\n",
    "    vif['VIF']=[variance_inflation_factor(x.values,i) for i in range(x.shape[1])]\n",
    "    \n",
    "    return(vif)"
   ]
  },
  {
   "cell_type": "code",
   "execution_count": 26,
   "metadata": {},
   "outputs": [
    {
     "name": "stdout",
     "output_type": "stream",
     "text": [
      "          variables       VIF\n",
      "0      authorRating  2.320923\n",
      "1  helpfulnessScore  2.320923\n"
     ]
    }
   ],
   "source": [
    "print(calc_vif(new_df[['authorRating','helpfulnessScore']]))"
   ]
  },
  {
   "cell_type": "markdown",
   "metadata": {},
   "source": [
    " Given that the VIF (Variance Inflation Factor) is below 10, there are no issues related to multicollinearity concerning the numerical variables. Additionally, the correlation coefficient between any pair of variables does not exceed 0.1."
   ]
  },
  {
   "cell_type": "markdown",
   "metadata": {},
   "source": [
    "# Sentiment Analysis"
   ]
  },
  {
   "cell_type": "markdown",
   "metadata": {},
   "source": [
    "## Preprocessing and Sentiment Analysis\n",
    "\n",
    "During our initial data preprocessing step, we began by converting all the text in the \"reviewText\" column to lowercase. Following this, we removed any special characters from the text. We then performed tokenization to break down the text into individual words and proceeded to eliminate common stop words from this list of words. Afterward, we isolated each word for emotion analysis. Utilizing the TextBlob library, we assessed the sentiment of each text in the column and calculated the polarity for the topics.\n",
    "\n",
    "The **Polarity** is a floating-point value ranging between -1 and 1, where a **1** signifies a strongly positive sentiment, and a **-1** represents a significantly negative sentiment.\n",
    "\n",
    "Therefore, they will play a significant role in assessing the online community's sentiment regarding the television series Game of Thrones."
   ]
  },
  {
   "cell_type": "code",
   "execution_count": 29,
   "metadata": {},
   "outputs": [
    {
     "name": "stdout",
     "output_type": "stream",
     "text": [
      "                                          id languageCode submissionDate  \\\n",
      "0     /title/tt0944947/userreviews/rw4877695          eng      5/21/2019   \n",
      "1     /title/tt0944947/userreviews/rw5621450          eng       4/9/2020   \n",
      "2     /title/tt0944947/userreviews/rw3853874          eng      11/9/2017   \n",
      "3     /title/tt0944947/userreviews/rw4886015          eng      5/25/2019   \n",
      "4     /title/tt0944947/userreviews/rw4841248          eng      5/10/2019   \n",
      "...                                      ...          ...            ...   \n",
      "5486  /title/tt0944947/userreviews/rw4938475          eng      6/16/2019   \n",
      "5487  /title/tt0944947/userreviews/rw5302336          eng      12/5/2019   \n",
      "5488  /title/tt0944947/userreviews/rw7824742          eng       2/1/2022   \n",
      "5489  /title/tt0944947/userreviews/rw6512536          eng      1/22/2021   \n",
      "5490  /title/tt0944947/userreviews/rw4928951          eng      6/11/2019   \n",
      "\n",
      "                                             reviewText  authorRating  \\\n",
      "0     Let's say you're reading these reviews and hav...           8.0   \n",
      "1     I'm feeling so heartbroken to see everyone cri...          10.0   \n",
      "2     Was over-time on a gradual binge of watching '...          10.0   \n",
      "3     It was a master piece. It was written to the p...           8.0   \n",
      "4     I would give this an easy 10/10.. if season 8 ...           9.0   \n",
      "...                                                 ...           ...   \n",
      "5486  I'm not saying the ending was bad, but it was ...           7.0   \n",
      "5487  It is sad to watch how they ended up the show....           8.0   \n",
      "5488  It is impressive but not nearly as good as the...           1.0   \n",
      "5489  I have heard many things about this show, such...           9.0   \n",
      "5490  Simply the best show ever created, I dont know...           9.0   \n",
      "\n",
      "      helpfulnessScore  spoiler_True Sentiment  Polarity  \n",
      "0             0.887923             0  Positive  0.123070  \n",
      "1             0.857426             0  Negative -0.094406  \n",
      "2             0.784321             0  Positive  0.223531  \n",
      "3             0.892524             0  Negative -0.111111  \n",
      "4             0.832666             1  Positive  0.014481  \n",
      "...                ...           ...       ...       ...  \n",
      "5486          0.061492             0  Negative -0.023769  \n",
      "5487          0.045587             0  Positive  0.027500  \n",
      "5488          0.012722             0  Positive  0.900000  \n",
      "5489          0.215216             0  Positive  0.104762  \n",
      "5490          0.063225             0  Positive  0.188095  \n",
      "\n",
      "[5490 rows x 9 columns]\n"
     ]
    }
   ],
   "source": [
    "# Function to preprocess, tokenize, and get sentiment labels\n",
    "def preprocess_tokenize_and_get_sentiment(text):\n",
    "    # Convert to lowercase\n",
    "    text = text.lower()\n",
    "    \n",
    "    # Remove special characters and digits using regular expressions\n",
    "    text = re.sub(f\"[{re.escape(string.punctuation)}\\d]\", \"\", text)\n",
    "    \n",
    "        # Tokenize the text\n",
    "    words = word_tokenize(text,\"english\")\n",
    "    \n",
    "        # Remove NLTK's English stopwords\n",
    "    words = [word for word in words if word not in stopwords.words('english')]\n",
    "\n",
    "    text = ' '.join(words)\n",
    "    \n",
    "    analysis = TextBlob(text)\n",
    "    sentiment = analysis.sentiment.polarity\n",
    "    \n",
    "    if sentiment > 0:\n",
    "        sentiment_label = 'Positive'\n",
    "    elif sentiment < 0:\n",
    "        sentiment_label = 'Negative'\n",
    "    else:\n",
    "        sentiment_label = 'Neutral'\n",
    "    \n",
    "    return sentiment_label, sentiment\n",
    "\n",
    "# Apply sentiment analysis to the DataFrame after preprocessing and tokenization\n",
    "new_df[['Sentiment', 'Polarity']] = new_df['reviewText'].apply(lambda x: pd.Series(preprocess_tokenize_and_get_sentiment(x)))\n",
    "\n",
    "# Display the DataFrame with sentiment analysis results including polarity\n",
    "print(new_df)"
   ]
  },
  {
   "cell_type": "code",
   "execution_count": 32,
   "metadata": {},
   "outputs": [],
   "source": [
    "new_df.to_csv('GOT_REVIEW_sentiment_analysis.csv',sep=',', index=False ,encoding='utf-8')\n"
   ]
  },
  {
   "cell_type": "code",
   "execution_count": 42,
   "metadata": {},
   "outputs": [
    {
     "data": {
      "image/png": "[encoded data removed]",
      "text/plain": [
       "<Figure size 864x576 with 1 Axes>"
      ]
     },
     "metadata": {},
     "output_type": "display_data"
    }
   ],
   "source": [
    "\n",
    "\n",
    "# Group the data by sentiment and count the occurrences\n",
    "sentiment_counts = new_df['Sentiment'].value_counts()\n",
    "\n",
    "# Define colors for the pie slices\n",
    "colors = ['lightgreen', 'lightcoral', 'lightskyblue']\n",
    "\n",
    "# Create a pie plot\n",
    "plt.figure(figsize=(12, 8))\n",
    "\n",
    "plt.pie(sentiment_counts, labels=sentiment_counts.index, autopct='%1.1f%%', colors=colors, startangle=140)\n",
    "plt.axis('equal')  # Equal aspect ratio ensures that the pie chart is circular.\n",
    "\n",
    "# Add a title\n",
    "plt.title(\"Sentiment Distribution\")\n",
    "\n",
    "# Show the plot\n",
    "plt.show()\n"
   ]
  },
  {
   "cell_type": "markdown",
   "metadata": {},
   "source": [
    "# Observation:\n",
    "The sentiment distribution analysis reveals intriguing insights about the reception of the TV series \"Game of Thrones.\" Evidently, a substantial majority of reviews, approximately 78%, express a positive sentiment towards the show. This overwhelmingly favorable response reflects the widespread appeal and acclaim garnered by \"Game of Thrones.\"\n",
    "\n",
    "A noteworthy observation emerges when considering the ratings provided by reviewers. It becomes evident that a significant portion of the ratings falls within the range of 8 to 10. This concentration of high ratings reaffirms the series' popularity and the exceptional level of satisfaction it imparts to its viewers. The data implies that the show has effectively captured the hearts and minds of its audience, fostering a deeply positive sentiment among its viewers.\n",
    "\n",
    "In summary, the sentiment analysis of \"Game of Thrones\" reviews underscores the remarkable extent of positive sentiment that surrounds the series. The preponderance of high ratings within the 8-10 range serves as a testament to its widespread popularity and success in eliciting enthusiasm and appreciation from its audience. This data attests to the enduring impact of the show and its ability to resonate with a broad and highly satisfied viewership."
   ]
  },
  {
   "cell_type": "markdown",
   "metadata": {},
   "source": [
    "# THANK YOU! HAPPY CODING😊☺☺😊! KEEP LEARNING!😎"
   ]
  },
  {
   "cell_type": "code",
   "execution_count": null,
   "metadata": {},
   "outputs": [],
   "source": []
  }
 ],
 "metadata": {
  "kernelspec": {
   "display_name": "Python 3",
   "language": "python",
   "name": "python3"
  },
  "language_info": {
   "codemirror_mode": {
    "name": "ipython",
    "version": 3
   },
   "file_extension": ".py",
   "mimetype": "text/x-python",
   "name": "python",
   "nbconvert_exporter": "python",
   "pygments_lexer": "ipython3",
   "version": "3.7.6"
  }
 },
 "nbformat": 4,
 "nbformat_minor": 4
}
